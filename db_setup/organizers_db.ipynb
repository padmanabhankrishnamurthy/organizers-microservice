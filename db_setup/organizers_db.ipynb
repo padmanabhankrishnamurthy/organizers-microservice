{
 "cells": [
  {
   "cell_type": "markdown",
   "id": "adb51e6c",
   "metadata": {},
   "source": [
    "# Init"
   ]
  },
  {
   "cell_type": "code",
   "execution_count": 1,
   "id": "e01d5c9d",
   "metadata": {},
   "outputs": [],
   "source": [
    "import pymysql\n",
    "from datetime import datetime"
   ]
  },
  {
   "cell_type": "code",
   "execution_count": 2,
   "id": "25ae81e4",
   "metadata": {},
   "outputs": [],
   "source": [
    "host = \"nimbus-db.c4dwsoa8ic0w.us-east-1.rds.amazonaws.com\"\n",
    "username = \"admin\"\n",
    "password = \"dbpassword\"\n",
    "# Port: 3306"
   ]
  },
  {
   "cell_type": "code",
   "execution_count": 3,
   "id": "e891a63c",
   "metadata": {},
   "outputs": [],
   "source": [
    "db = pymysql.connect(host=host, user=username, password=password)"
   ]
  },
  {
   "cell_type": "code",
   "execution_count": 4,
   "id": "bf1566c1",
   "metadata": {},
   "outputs": [],
   "source": [
    "cursor = db.cursor()"
   ]
  },
  {
   "cell_type": "markdown",
   "id": "e89cd629",
   "metadata": {},
   "source": [
    "# Create DB"
   ]
  },
  {
   "cell_type": "code",
   "execution_count": 9,
   "id": "40448313",
   "metadata": {},
   "outputs": [],
   "source": [
    "sql = '''create database organizer'''\n",
    "cursor.execute(sql)\n",
    "cursor.connection.commit()"
   ]
  },
  {
   "cell_type": "code",
   "execution_count": 5,
   "id": "0789d239",
   "metadata": {},
   "outputs": [
    {
     "data": {
      "text/plain": [
       "0"
      ]
     },
     "execution_count": 5,
     "metadata": {},
     "output_type": "execute_result"
    }
   ],
   "source": [
    "sql = '''use organizer'''\n",
    "cursor.execute(sql)"
   ]
  },
  {
   "cell_type": "code",
   "execution_count": 6,
   "id": "b984a7b7",
   "metadata": {},
   "outputs": [],
   "source": [
    "def get_db_cursor():\n",
    "    db = pymysql.connect(host=host, user=username, password=password)\n",
    "    cursor = db.cursor()\n",
    "    cursor.execute('''use organizer''')\n",
    "    return cursor"
   ]
  },
  {
   "cell_type": "markdown",
   "id": "24d8ffab",
   "metadata": {},
   "source": [
    "# Create Tables"
   ]
  },
  {
   "cell_type": "code",
   "execution_count": 18,
   "id": "9f3ad48f",
   "metadata": {},
   "outputs": [],
   "source": [
    "# sql = '''create table contact_info(\n",
    "# org_id varchar(50) not null,\n",
    "# org_name varchar(50) not null,\n",
    "# non_profit tinyint(1),\n",
    "# email varchar(254) not null,\n",
    "# phone varchar(30) not null,\n",
    "# primary key (org_id)\n",
    "# )'''\n",
    "# cursor.execute(sql)\n",
    "# cursor.connection.commit()"
   ]
  },
  {
   "cell_type": "code",
   "execution_count": 27,
   "id": "c9902825",
   "metadata": {},
   "outputs": [],
   "source": [
    "# sql = '''create table banking_info(\n",
    "#     org_id varchar(50) not null,\n",
    "#     routing_number varchar(9) not null,\n",
    "#     account_number varchar(12) not null,\n",
    "#     bank_name varchar(50) not null,\n",
    "#     primary key (org_id),\n",
    "#     foreign key (org_id) references contact_info(org_id)\n",
    "# )'''\n",
    "# cursor.execute(sql)\n",
    "# cursor.connection.commit()"
   ]
  },
  {
   "cell_type": "code",
   "execution_count": 25,
   "id": "1dcd6bf9",
   "metadata": {},
   "outputs": [],
   "source": [
    "# sql = '''create table address(\n",
    "#     org_id varchar(50) not null,\n",
    "#     st_and_apt varchar(254),\n",
    "#     city varchar(254),\n",
    "#     state varchar(254),\n",
    "#     zipcode varchar(10),\n",
    "#     country varchar(3),\n",
    "#     primary key (org_id),\n",
    "#     foreign key (org_id) references contact_info(org_id)\n",
    "# )'''\n",
    "# cursor.execute(sql)\n",
    "# cursor.connection.commit()"
   ]
  },
  {
   "cell_type": "markdown",
   "id": "158073d5",
   "metadata": {},
   "source": [
    "# See all requests"
   ]
  },
  {
   "cell_type": "code",
   "execution_count": 9,
   "id": "e82507fc",
   "metadata": {},
   "outputs": [
    {
     "data": {
      "text/plain": [
       "(('1', '1', 0, '2', '3'),)"
      ]
     },
     "execution_count": 9,
     "metadata": {},
     "output_type": "execute_result"
    }
   ],
   "source": [
    "cursor = get_db_cursor()\n",
    "sql=\"select * from contact_info \"\n",
    "cursor.execute(sql)\n",
    "cursor.fetchall()"
   ]
  },
  {
   "cell_type": "code",
   "execution_count": 8,
   "id": "c0084dc2",
   "metadata": {},
   "outputs": [
    {
     "data": {
      "text/plain": [
       "()"
      ]
     },
     "execution_count": 8,
     "metadata": {},
     "output_type": "execute_result"
    }
   ],
   "source": [
    "cursor = get_db_cursor()\n",
    "sql=\"select * from banking_info\"\n",
    "cursor.execute(sql)\n",
    "cursor.fetchall()"
   ]
  },
  {
   "cell_type": "code",
   "execution_count": 23,
   "id": "2a34efaf",
   "metadata": {},
   "outputs": [
    {
     "data": {
      "text/plain": [
       "()"
      ]
     },
     "execution_count": 23,
     "metadata": {},
     "output_type": "execute_result"
    }
   ],
   "source": [
    "cursor = get_db_cursor()\n",
    "sql=\"select * from address\"\n",
    "cursor.execute(sql)\n",
    "cursor.fetchall()"
   ]
  },
  {
   "cell_type": "markdown",
   "id": "896301f5",
   "metadata": {},
   "source": [
    "# Drop tables"
   ]
  },
  {
   "cell_type": "code",
   "execution_count": 26,
   "id": "52d7e513",
   "metadata": {},
   "outputs": [],
   "source": [
    "sql=\"drop table banking_info\"\n",
    "cursor.execute(sql)\n",
    "cursor.connection.commit()"
   ]
  }
 ],
 "metadata": {
  "kernelspec": {
   "display_name": "Python 3 (ipykernel)",
   "language": "python",
   "name": "python3"
  },
  "language_info": {
   "codemirror_mode": {
    "name": "ipython",
    "version": 3
   },
   "file_extension": ".py",
   "mimetype": "text/x-python",
   "name": "python",
   "nbconvert_exporter": "python",
   "pygments_lexer": "ipython3",
   "version": "3.9.13"
  },
  "vscode": {
   "interpreter": {
    "hash": "39070ff5c1ab98f9aaed196ecc900f686d99c6eedcc9a05ae18f2a703ec3493b"
   }
  }
 },
 "nbformat": 4,
 "nbformat_minor": 5
}
